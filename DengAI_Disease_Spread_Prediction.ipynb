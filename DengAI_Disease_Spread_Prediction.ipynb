{
 "cells": [
  {
   "cell_type": "markdown",
   "metadata": {},
   "source": [
    "## Libraries"
   ]
  },
  {
   "cell_type": "code",
   "execution_count": null,
   "metadata": {},
   "outputs": [],
   "source": [
    "import pandas as pd\n",
    "import numpy as np\n",
    "import matplotlib.pyplot as plt\n",
    "import seaborn as sns\n",
    "\n",
    "pd.set_option('display.max_columns',None)\n",
    "\n",
    "import warnings\n",
    "warnings.filterwarnings('ignore')"
   ]
  },
  {
   "cell_type": "markdown",
   "metadata": {},
   "source": [
    "## Ml-Packages"
   ]
  },
  {
   "cell_type": "code",
   "execution_count": null,
   "metadata": {},
   "outputs": [],
   "source": [
    "import xgboost\n",
    "from sklearn.metrics import mean_absolute_error\n",
    "from sklearn.model_selection import train_test_split\n",
    "from xgboost import XGBRegressor\n",
    "from sklearn.preprocessing import StandardScaler\n",
    "from sklearn.linear_model import LinearRegression\n",
    "from sklearn.tree import DecisionTreeRegressor\n",
    "from sklearn.ensemble import RandomForestRegressor,AdaBoostRegressor,GradientBoostingRegressor\n",
    "from sklearn.svm import SVR\n",
    "from sklearn.tree import DecisionTreeRegressor\n",
    "from sklearn.model_selection import RandomizedSearchCV,cross_val_score,GridSearchCV"
   ]
  },
  {
   "cell_type": "markdown",
   "metadata": {},
   "source": [
    "## Importing Data and Labels"
   ]
  },
  {
   "cell_type": "code",
   "execution_count": null,
   "metadata": {},
   "outputs": [],
   "source": [
    "df = pd.read_csv('..\\Data\\dengue_features_train.csv')\n",
    "test = pd.read_csv('..\\Data\\dengue_features_test.csv')\n",
    "labels = pd.read_csv('..\\Data\\dengue_labels_train.csv')\n",
    "labels_totalcases = labels['total_cases']\n",
    "df['labels'] = labels_totalcases\n",
    "df = pd.concat([df,test],axis=0,sort=False)"
   ]
  },
  {
   "cell_type": "markdown",
   "metadata": {},
   "source": [
    "## Data- Housekeeping"
   ]
  },
  {
   "cell_type": "code",
   "execution_count": null,
   "metadata": {},
   "outputs": [],
   "source": [
    "df.isna().sum().sum()"
   ]
  },
  {
   "cell_type": "code",
   "execution_count": null,
   "metadata": {},
   "outputs": [],
   "source": [
    "missing_columns_list = ['ndvi_ne', 'ndvi_nw',\n",
    "                        'ndvi_se', 'ndvi_sw', 'precipitation_amt_mm', 'reanalysis_air_temp_k',\n",
    "                        'reanalysis_avg_temp_k', 'reanalysis_dew_point_temp_k',\n",
    "                         'reanalysis_max_air_temp_k', 'reanalysis_min_air_temp_k',\n",
    "                        'reanalysis_precip_amt_kg_per_m2',\n",
    "                         'reanalysis_relative_humidity_percent', 'reanalysis_sat_precip_amt_mm',\n",
    "                         'reanalysis_specific_humidity_g_per_kg', 'reanalysis_tdtr_k',\n",
    "                         'station_avg_temp_c', 'station_diur_temp_rng_c', 'station_max_temp_c',\n",
    "                          'station_min_temp_c', 'station_precip_mm']"
   ]
  },
  {
   "cell_type": "code",
   "execution_count": null,
   "metadata": {},
   "outputs": [],
   "source": [
    "for i in missing_columns_list:\n",
    "    df[i].fillna(df[i].mean(),inplace=True)"
   ]
  },
  {
   "cell_type": "markdown",
   "metadata": {},
   "source": [
    "## Feature-Encoding"
   ]
  },
  {
   "cell_type": "code",
   "execution_count": null,
   "metadata": {},
   "outputs": [],
   "source": [
    "df = pd.get_dummies(df,columns=['city'],drop_first=True)\n",
    "df['week_start_date_Date'] = pd.to_datetime(df['week_start_date']) \n",
    "df.drop(columns=['week_start_date'],inplace=True)\n",
    "\n",
    "df['Year'] = df['week_start_date_Date'].dt.year\n",
    "df['Month'] = df['week_start_date_Date'].dt.month\n",
    "df['Day'] = df['week_start_date_Date'].dt.day\n",
    "\n",
    "df.drop(columns=['week_start_date_Date'],inplace=True)\n",
    "df.drop(columns=['year'],inplace=True)\n",
    "df.drop(columns=['weekofyear'],inplace=True)\n",
    "df.drop(columns=['reanalysis_specific_humidity_g_per_kg'],inplace=True)\n",
    "df.drop(columns=['reanalysis_sat_precip_amt_mm'],inplace=True)\n",
    "df.drop(columns=['reanalysis_avg_temp_k'],inplace=True)"
   ]
  },
  {
   "cell_type": "markdown",
   "metadata": {},
   "source": [
    "## Co-Relation"
   ]
  },
  {
   "cell_type": "code",
   "execution_count": null,
   "metadata": {},
   "outputs": [],
   "source": [
    "features = df.drop(columns=['labels']).columns\n",
    "\n",
    "mask = np.zeros_like(df[features].corr(), dtype=np.bool) \n",
    "mask[np.triu_indices_from(mask)] = True \n",
    "\n",
    "f, ax = plt.subplots(figsize=(16, 12))\n",
    "plt.title('Pearson Correlation Matrix',fontsize=25)\n",
    "\n",
    "sns.heatmap(df[features].corr(),linewidths=0.25,vmax=0.7,square=True,cmap=\"BuGn\",            \n",
    "            linecolor='w',annot=True,annot_kws={\"size\":8},mask=mask,cbar_kws={\"shrink\": .9}); #\"BuGn_r\" to reverse \n"
   ]
  },
  {
   "cell_type": "markdown",
   "metadata": {},
   "source": [
    "## Train | Test  Split"
   ]
  },
  {
   "cell_type": "code",
   "execution_count": null,
   "metadata": {},
   "outputs": [],
   "source": [
    "train = df.iloc[:1456]\n",
    "test = df.iloc[1456:]"
   ]
  },
  {
   "cell_type": "markdown",
   "metadata": {},
   "source": [
    "## X and Y"
   ]
  },
  {
   "cell_type": "code",
   "execution_count": null,
   "metadata": {},
   "outputs": [],
   "source": [
    "X = train.drop(columns=['labels'])\n",
    "y = train[['labels']]"
   ]
  },
  {
   "cell_type": "markdown",
   "metadata": {},
   "source": [
    "## Feature-Scaling"
   ]
  },
  {
   "cell_type": "code",
   "execution_count": null,
   "metadata": {},
   "outputs": [],
   "source": [
    "scaler = StandardScaler()\n",
    "X = scaler.fit_transform(X)"
   ]
  },
  {
   "cell_type": "markdown",
   "metadata": {},
   "source": [
    "## Training and testing Data"
   ]
  },
  {
   "cell_type": "code",
   "execution_count": null,
   "metadata": {},
   "outputs": [],
   "source": [
    "xtrain,xtest,ytrain,ytest = train_test_split(X,y,test_size=0.2,random_state=0)"
   ]
  },
  {
   "cell_type": "markdown",
   "metadata": {},
   "source": [
    "## Applying Regression Modelling Techniques"
   ]
  },
  {
   "cell_type": "markdown",
   "metadata": {},
   "source": [
    "## Linear Reg"
   ]
  },
  {
   "cell_type": "code",
   "execution_count": null,
   "metadata": {},
   "outputs": [],
   "source": [
    "lr = LinearRegression()\n",
    "lr = lr.fit(xtrain,ytrain)\n",
    "pred_lr = lr.predict(xtest)\n",
    "mean_absolute_error(ytest,pred_lr)"
   ]
  },
  {
   "cell_type": "markdown",
   "metadata": {},
   "source": [
    "## SVM - Kernel"
   ]
  },
  {
   "cell_type": "code",
   "execution_count": null,
   "metadata": {},
   "outputs": [],
   "source": [
    "svr_linear = SVR(kernel='linear')\n",
    "svr_linear = svr_linear.fit(xtrain,ytrain)\n",
    "pred_svr_linear = svr_linear.predict(xtest)\n",
    "mean_absolute_error(ytest,pred_svr_linear)"
   ]
  },
  {
   "cell_type": "markdown",
   "metadata": {},
   "source": [
    "## SVM - RBF"
   ]
  },
  {
   "cell_type": "code",
   "execution_count": null,
   "metadata": {},
   "outputs": [],
   "source": [
    "svr_rbf = SVR(kernel='rbf')\n",
    "svr_rbf = svr_linear.fit(xtrain,ytrain)\n",
    "pred_svr_rbf = svr_rbf.predict(xtest)\n",
    "mean_absolute_error(ytest,pred_svr_rbf)"
   ]
  },
  {
   "cell_type": "markdown",
   "metadata": {},
   "source": [
    "## Decision Tree"
   ]
  },
  {
   "cell_type": "code",
   "execution_count": null,
   "metadata": {},
   "outputs": [],
   "source": [
    "dt = DecisionTreeRegressor(random_state=0)\n",
    "dt = dt.fit(xtrain,ytrain)\n",
    "pred_dt = dt.predict(xtest)\n",
    "mean_absolute_error(ytest,pred_dt)"
   ]
  },
  {
   "cell_type": "markdown",
   "metadata": {},
   "source": [
    "## RF Regression"
   ]
  },
  {
   "cell_type": "code",
   "execution_count": null,
   "metadata": {},
   "outputs": [],
   "source": [
    "rf = RandomForestRegressor(random_state=0)\n",
    "rf = rf.fit(xtrain,ytrain)\n",
    "pred_rf = rf.predict(xtest)\n",
    "mean_absolute_error(ytest,pred_rf)"
   ]
  },
  {
   "cell_type": "markdown",
   "metadata": {},
   "source": [
    "## AdaBoost"
   ]
  },
  {
   "cell_type": "code",
   "execution_count": null,
   "metadata": {},
   "outputs": [],
   "source": [
    "ada = AdaBoostRegressor(random_state=0)\n",
    "ada = ada.fit(xtrain,ytrain)\n",
    "pred_ada = ada.predict(xtest)\n",
    "mean_absolute_error(ytest,pred_ada)"
   ]
  },
  {
   "cell_type": "markdown",
   "metadata": {},
   "source": [
    "## Gradient-Boosting"
   ]
  },
  {
   "cell_type": "code",
   "execution_count": null,
   "metadata": {},
   "outputs": [],
   "source": [
    "gb = GradientBoostingRegressor(random_state=0)\n",
    "gb = gb.fit(xtrain,ytrain)\n",
    "pred_gb = gb.predict(xtest)\n",
    "mean_absolute_error(ytest,pred_gb)"
   ]
  },
  {
   "cell_type": "markdown",
   "metadata": {},
   "source": [
    "## XG-Boost"
   ]
  },
  {
   "cell_type": "code",
   "execution_count": null,
   "metadata": {},
   "outputs": [],
   "source": [
    "xgb = XGBRegressor(random_state=0)\n",
    "xgb = xgb.fit(xtrain,ytrain)\n",
    "pred_xgb = xgb.predict(xtest)\n",
    "mean_absolute_error(ytest,pred_xgb)"
   ]
  },
  {
   "cell_type": "markdown",
   "metadata": {},
   "source": [
    "## Tuning XG-Boost Regressor"
   ]
  },
  {
   "cell_type": "code",
   "execution_count": null,
   "metadata": {},
   "outputs": [],
   "source": [
    "parameters  = {'max_depth':[5,6,7,8],\n",
    "'learning_rate':[0.5,0.75,0.1,0.2,0.3],\n",
    "'n_estimators':[300,350,360,400,500] }"
   ]
  },
  {
   "cell_type": "markdown",
   "metadata": {},
   "source": [
    "#### Random Search CV"
   ]
  },
  {
   "cell_type": "code",
   "execution_count": null,
   "metadata": {},
   "outputs": [],
   "source": [
    "xgb = XGBRegressor(random_state=0)\n",
    "random_search = RandomizedSearchCV(estimator=xgb,param_distributions=parameters,scoring='neg_mean_absolute_error',\n",
    "                                  cv=10,n_iter=20)\n",
    "tuned_xgb = random_search.fit(xtrain,ytrain)\n",
    "tuned_xgb_model = tuned_xgb.best_estimator_\n",
    "tuned_xgb_model = tuned_xgb_model.fit(xtrain,ytrain)\n",
    "pred_tuned_xgb_model = tuned_xgb_model.predict(xtest)\n",
    "mean_absolute_error(ytest,pred_tuned_xgb_model)"
   ]
  },
  {
   "cell_type": "markdown",
   "metadata": {},
   "source": [
    "#### Grid Search CV"
   ]
  },
  {
   "cell_type": "code",
   "execution_count": null,
   "metadata": {},
   "outputs": [],
   "source": [
    "xgb = XGBRegressor(random_state=0)\n",
    "random_search = GridSearchCV(estimator=xgb,param_grid=parameters,scoring='neg_mean_absolute_error',\n",
    "                                  cv=10)\n",
    "tuned_xgb = random_search.fit(xtrain,ytrain)\n",
    "tuned_xgb_model = tuned_xgb.best_estimator_\n",
    "tuned_xgb_model = tuned_xgb_model.fit(xtrain,ytrain)\n",
    "pred_tuned_xgb_model = tuned_xgb_model.predict(xtest)\n",
    "mean_absolute_error(ytest,pred_tuned_xgb_model)"
   ]
  },
  {
   "cell_type": "markdown",
   "metadata": {},
   "source": [
    "# Final predictions from Main test Data"
   ]
  },
  {
   "cell_type": "code",
   "execution_count": null,
   "metadata": {},
   "outputs": [],
   "source": [
    "test_X = test.drop(columns=['labels'])\n",
    "test_X = scaler.fit_transform(test_X)\n",
    "final_predictions = xgb.predict(test_X)\n",
    "final_predictions = final_predictions.round().astype(int)"
   ]
  },
  {
   "cell_type": "markdown",
   "metadata": {},
   "source": [
    "## Making Dataset Ready"
   ]
  },
  {
   "cell_type": "code",
   "execution_count": null,
   "metadata": {},
   "outputs": [],
   "source": [
    "df_test_final = pd.read_csv('..\\Data\\dengue_features_test.csv')\n",
    "df_test_final = df_test_final[['city','year','weekofyear']]\n",
    "df_test_final['total_cases'] = final_predictions"
   ]
  },
  {
   "cell_type": "markdown",
   "metadata": {},
   "source": [
    "# Final Submission"
   ]
  },
  {
   "cell_type": "code",
   "execution_count": null,
   "metadata": {},
   "outputs": [],
   "source": [
    "#df_test_final.to_csv('..\\Data\\Submission.csv',index=False)"
   ]
  }
 ],
 "metadata": {
  "kernelspec": {
   "display_name": "Python 3",
   "language": "python",
   "name": "python3"
  },
  "language_info": {
   "codemirror_mode": {
    "name": "ipython",
    "version": 3
   },
   "file_extension": ".py",
   "mimetype": "text/x-python",
   "name": "python",
   "nbconvert_exporter": "python",
   "pygments_lexer": "ipython3",
   "version": "3.7.4"
  }
 },
 "nbformat": 4,
 "nbformat_minor": 2
}
